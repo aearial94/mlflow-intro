{
 "cells": [
  {
   "cell_type": "code",
   "execution_count": 3,
   "id": "41f6d33f-2a1b-4b1d-bd26-66905b326da0",
   "metadata": {},
   "outputs": [],
   "source": [
    "from joblib import dump, load\n",
    "\n",
    "class IrisModel:\n",
    "    def __init__(self, model = \"iris_model.joblib\"):\n",
    "        self.model = model\n",
    "        self.logreg = load(self.model)\n",
    "        \n",
    "    def predict(self, sepal_length, sepal_width, petal_length, petal_width):\n",
    "        dimensions = [sepal_length,\n",
    "                      sepal_width,\n",
    "                      petal_length,\n",
    "                      petal_width]\n",
    "    \n",
    "        prediction = self.logreg.predict([dimensions])[0]\n",
    "    \n",
    "        # Make prediction readible for a human\n",
    "        iris_dict = {0: 'setosa', 1: 'versicolor', 2: 'virginica'}\n",
    "        human_readible_prediction = iris_dict[prediction]        \n",
    "        \n",
    "        return human_readible_prediction"
   ]
  },
  {
   "cell_type": "code",
   "execution_count": 8,
   "id": "c26589a0-ba90-4788-a6f1-6c14f53f5467",
   "metadata": {},
   "outputs": [],
   "source": [
    "iris = IrisModel()"
   ]
  },
  {
   "cell_type": "code",
   "execution_count": 9,
   "id": "5b36b0ce-8d17-4e66-b948-1d3c5361ee17",
   "metadata": {},
   "outputs": [],
   "source": [
    "# Provide dimensions\n",
    "sepal_length = 4.3\n",
    "sepal_width = 2.0\n",
    "petal_length = 1.0\n",
    "petal_width = 0.1"
   ]
  },
  {
   "cell_type": "code",
   "execution_count": 10,
   "id": "b446ee2c-8f2a-44ac-9df3-543871ee8760",
   "metadata": {},
   "outputs": [
    {
     "name": "stderr",
     "output_type": "stream",
     "text": [
      "/home/ajach/miniconda3/envs/mlops_intro/lib/python3.10/site-packages/sklearn/base.py:450: UserWarning: X does not have valid feature names, but LogisticRegression was fitted with feature names\n",
      "  warnings.warn(\n"
     ]
    },
    {
     "data": {
      "text/plain": [
       "'setosa'"
      ]
     },
     "execution_count": 10,
     "metadata": {},
     "output_type": "execute_result"
    }
   ],
   "source": [
    "iris.predict(sepal_length, sepal_width, petal_length, petal_width)"
   ]
  },
  {
   "cell_type": "code",
   "execution_count": null,
   "id": "a84e6a21-31c7-4751-bc14-d6307c092f5a",
   "metadata": {},
   "outputs": [],
   "source": []
  }
 ],
 "metadata": {
  "kernelspec": {
   "display_name": "Python 3 (ipykernel)",
   "language": "python",
   "name": "python3"
  },
  "language_info": {
   "codemirror_mode": {
    "name": "ipython",
    "version": 3
   },
   "file_extension": ".py",
   "mimetype": "text/x-python",
   "name": "python",
   "nbconvert_exporter": "python",
   "pygments_lexer": "ipython3",
   "version": "3.10.4"
  }
 },
 "nbformat": 4,
 "nbformat_minor": 5
}
